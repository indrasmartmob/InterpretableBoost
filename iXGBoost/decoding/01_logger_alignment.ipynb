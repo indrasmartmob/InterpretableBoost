{
 "cells": [
  {
   "cell_type": "code",
   "execution_count": 1,
   "metadata": {},
   "outputs": [
    {
     "data": {
      "text/plain": [
       "['c:\\\\D_Drive\\\\Indra\\\\github_projects\\\\InterpretableBoost\\\\iXGBoost\\\\decoding',\n",
       " 'c:\\\\Users\\\\iammo\\\\anaconda3\\\\envs\\\\demo01\\\\python311.zip',\n",
       " 'c:\\\\Users\\\\iammo\\\\anaconda3\\\\envs\\\\demo01\\\\DLLs',\n",
       " 'c:\\\\Users\\\\iammo\\\\anaconda3\\\\envs\\\\demo01\\\\Lib',\n",
       " 'c:\\\\Users\\\\iammo\\\\anaconda3\\\\envs\\\\demo01',\n",
       " '',\n",
       " 'c:\\\\Users\\\\iammo\\\\anaconda3\\\\envs\\\\demo01\\\\Lib\\\\site-packages',\n",
       " 'c:\\\\Users\\\\iammo\\\\anaconda3\\\\envs\\\\demo01\\\\Lib\\\\site-packages\\\\win32',\n",
       " 'c:\\\\Users\\\\iammo\\\\anaconda3\\\\envs\\\\demo01\\\\Lib\\\\site-packages\\\\win32\\\\lib',\n",
       " 'c:\\\\Users\\\\iammo\\\\anaconda3\\\\envs\\\\demo01\\\\Lib\\\\site-packages\\\\Pythonwin']"
      ]
     },
     "execution_count": 1,
     "metadata": {},
     "output_type": "execute_result"
    }
   ],
   "source": [
    "import sys\n",
    "sys.path"
   ]
  },
  {
   "cell_type": "code",
   "execution_count": 2,
   "metadata": {},
   "outputs": [
    {
     "data": {
      "text/plain": [
       "['C:\\\\D_Drive\\\\Indra\\\\github_projects\\\\InterpretableBoost',\n",
       " 'c:\\\\D_Drive\\\\Indra\\\\github_projects\\\\InterpretableBoost\\\\iXGBoost\\\\decoding',\n",
       " 'c:\\\\Users\\\\iammo\\\\anaconda3\\\\envs\\\\demo01\\\\python311.zip',\n",
       " 'c:\\\\Users\\\\iammo\\\\anaconda3\\\\envs\\\\demo01\\\\DLLs',\n",
       " 'c:\\\\Users\\\\iammo\\\\anaconda3\\\\envs\\\\demo01\\\\Lib',\n",
       " 'c:\\\\Users\\\\iammo\\\\anaconda3\\\\envs\\\\demo01',\n",
       " '',\n",
       " 'c:\\\\Users\\\\iammo\\\\anaconda3\\\\envs\\\\demo01\\\\Lib\\\\site-packages',\n",
       " 'c:\\\\Users\\\\iammo\\\\anaconda3\\\\envs\\\\demo01\\\\Lib\\\\site-packages\\\\win32',\n",
       " 'c:\\\\Users\\\\iammo\\\\anaconda3\\\\envs\\\\demo01\\\\Lib\\\\site-packages\\\\win32\\\\lib',\n",
       " 'c:\\\\Users\\\\iammo\\\\anaconda3\\\\envs\\\\demo01\\\\Lib\\\\site-packages\\\\Pythonwin']"
      ]
     },
     "execution_count": 2,
     "metadata": {},
     "output_type": "execute_result"
    }
   ],
   "source": [
    "package_path=\"C:\\D_Drive\\Indra\\github_projects\\InterpretableBoost\"\n",
    "sys.path.insert(0,package_path)\n",
    "sys.path"
   ]
  },
  {
   "cell_type": "code",
   "execution_count": 3,
   "metadata": {},
   "outputs": [],
   "source": [
    "from iXGBoost import interpretable_xgb2 as ixgb2"
   ]
  },
  {
   "cell_type": "code",
   "execution_count": 4,
   "metadata": {},
   "outputs": [
    {
     "name": "stderr",
     "output_type": "stream",
     "text": [
      "\u001b[32m2024-05-17 13:21:35.299\u001b[0m | \u001b[1mINFO    \u001b[0m | \u001b[36miXGBoost._src.interpretable_xgb2\u001b[0m:\u001b[36mfn_check\u001b[0m:\u001b[36m20\u001b[0m - \u001b[1mIn the fn_check method\u001b[0m\n",
      "\u001b[32m2024-05-17 13:21:35.299\u001b[0m | \u001b[34m\u001b[1mDEBUG   \u001b[0m | \u001b[36miXGBoost._src.interpretable_xgb2\u001b[0m:\u001b[36mfn_check\u001b[0m:\u001b[36m22\u001b[0m - \u001b[34m\u001b[1mA debug message.\u001b[0m\n",
      "\u001b[32m2024-05-17 13:21:35.300\u001b[0m | \u001b[1mINFO    \u001b[0m | \u001b[36miXGBoost._src.interpretable_xgb2\u001b[0m:\u001b[36mfn_check\u001b[0m:\u001b[36m23\u001b[0m - \u001b[1mAn info message.\u001b[0m\n",
      "\u001b[32m2024-05-17 13:21:35.302\u001b[0m | \u001b[32m\u001b[1mSUCCESS \u001b[0m | \u001b[36miXGBoost._src.interpretable_xgb2\u001b[0m:\u001b[36mfn_check\u001b[0m:\u001b[36m24\u001b[0m - \u001b[32m\u001b[1mA success message.\u001b[0m\n",
      "\u001b[32m2024-05-17 13:21:35.303\u001b[0m | \u001b[33m\u001b[1mWARNING \u001b[0m | \u001b[36miXGBoost._src.interpretable_xgb2\u001b[0m:\u001b[36mfn_check\u001b[0m:\u001b[36m25\u001b[0m - \u001b[33m\u001b[1mA warning message.\u001b[0m\n",
      "\u001b[32m2024-05-17 13:21:35.303\u001b[0m | \u001b[31m\u001b[1mERROR   \u001b[0m | \u001b[36miXGBoost._src.interpretable_xgb2\u001b[0m:\u001b[36mfn_check\u001b[0m:\u001b[36m26\u001b[0m - \u001b[31m\u001b[1mAn error message.\u001b[0m\n",
      "\u001b[32m2024-05-17 13:21:35.305\u001b[0m | \u001b[41m\u001b[1mCRITICAL\u001b[0m | \u001b[36miXGBoost._src.interpretable_xgb2\u001b[0m:\u001b[36mfn_check\u001b[0m:\u001b[36m27\u001b[0m - \u001b[41m\u001b[1mA critical message.\u001b[0m\n"
     ]
    }
   ],
   "source": [
    "ixgb2.fn_check(verbose=True)"
   ]
  },
  {
   "cell_type": "code",
   "execution_count": 5,
   "metadata": {},
   "outputs": [],
   "source": [
    "ixgb2.fn_check(verbose=False)"
   ]
  },
  {
   "cell_type": "code",
   "execution_count": 6,
   "metadata": {},
   "outputs": [
    {
     "name": "stderr",
     "output_type": "stream",
     "text": [
      "\u001b[32m2024-05-17 13:21:35.843\u001b[0m | \u001b[1mINFO    \u001b[0m | \u001b[36miXGBoost._src.interpretable_xgb2\u001b[0m:\u001b[36mfn_check\u001b[0m:\u001b[36m20\u001b[0m - \u001b[1mIn the fn_check method\u001b[0m\n",
      "\u001b[32m2024-05-17 13:21:35.843\u001b[0m | \u001b[34m\u001b[1mDEBUG   \u001b[0m | \u001b[36miXGBoost._src.interpretable_xgb2\u001b[0m:\u001b[36mfn_check\u001b[0m:\u001b[36m22\u001b[0m - \u001b[34m\u001b[1mA debug message.\u001b[0m\n",
      "\u001b[32m2024-05-17 13:21:35.852\u001b[0m | \u001b[1mINFO    \u001b[0m | \u001b[36miXGBoost._src.interpretable_xgb2\u001b[0m:\u001b[36mfn_check\u001b[0m:\u001b[36m23\u001b[0m - \u001b[1mAn info message.\u001b[0m\n",
      "\u001b[32m2024-05-17 13:21:35.852\u001b[0m | \u001b[32m\u001b[1mSUCCESS \u001b[0m | \u001b[36miXGBoost._src.interpretable_xgb2\u001b[0m:\u001b[36mfn_check\u001b[0m:\u001b[36m24\u001b[0m - \u001b[32m\u001b[1mA success message.\u001b[0m\n",
      "\u001b[32m2024-05-17 13:21:35.855\u001b[0m | \u001b[33m\u001b[1mWARNING \u001b[0m | \u001b[36miXGBoost._src.interpretable_xgb2\u001b[0m:\u001b[36mfn_check\u001b[0m:\u001b[36m25\u001b[0m - \u001b[33m\u001b[1mA warning message.\u001b[0m\n",
      "\u001b[32m2024-05-17 13:21:35.855\u001b[0m | \u001b[31m\u001b[1mERROR   \u001b[0m | \u001b[36miXGBoost._src.interpretable_xgb2\u001b[0m:\u001b[36mfn_check\u001b[0m:\u001b[36m26\u001b[0m - \u001b[31m\u001b[1mAn error message.\u001b[0m\n",
      "\u001b[32m2024-05-17 13:21:35.859\u001b[0m | \u001b[41m\u001b[1mCRITICAL\u001b[0m | \u001b[36miXGBoost._src.interpretable_xgb2\u001b[0m:\u001b[36mfn_check\u001b[0m:\u001b[36m27\u001b[0m - \u001b[41m\u001b[1mA critical message.\u001b[0m\n"
     ]
    }
   ],
   "source": [
    "ixgb2.fn_check(verbose=True)"
   ]
  },
  {
   "cell_type": "code",
   "execution_count": 7,
   "metadata": {},
   "outputs": [],
   "source": [
    "from iXGBoost import interpretable_xgb2_classifier as ixgb2C"
   ]
  },
  {
   "cell_type": "code",
   "execution_count": 8,
   "metadata": {},
   "outputs": [
    {
     "name": "stderr",
     "output_type": "stream",
     "text": [
      "\u001b[32m2024-05-17 13:22:25.810\u001b[0m | \u001b[1mINFO    \u001b[0m | \u001b[36miXGBoost._src.interpretable_xgb2_classifier\u001b[0m:\u001b[36mfn_check\u001b[0m:\u001b[36m20\u001b[0m - \u001b[1mIn the fn_check method\u001b[0m\n",
      "\u001b[32m2024-05-17 13:22:25.811\u001b[0m | \u001b[34m\u001b[1mDEBUG   \u001b[0m | \u001b[36miXGBoost._src.interpretable_xgb2_classifier\u001b[0m:\u001b[36mfn_check\u001b[0m:\u001b[36m22\u001b[0m - \u001b[34m\u001b[1mA debug message.\u001b[0m\n",
      "\u001b[32m2024-05-17 13:22:25.812\u001b[0m | \u001b[1mINFO    \u001b[0m | \u001b[36miXGBoost._src.interpretable_xgb2_classifier\u001b[0m:\u001b[36mfn_check\u001b[0m:\u001b[36m23\u001b[0m - \u001b[1mAn info message.\u001b[0m\n",
      "\u001b[32m2024-05-17 13:22:25.813\u001b[0m | \u001b[32m\u001b[1mSUCCESS \u001b[0m | \u001b[36miXGBoost._src.interpretable_xgb2_classifier\u001b[0m:\u001b[36mfn_check\u001b[0m:\u001b[36m24\u001b[0m - \u001b[32m\u001b[1mA success message.\u001b[0m\n",
      "\u001b[32m2024-05-17 13:22:25.814\u001b[0m | \u001b[33m\u001b[1mWARNING \u001b[0m | \u001b[36miXGBoost._src.interpretable_xgb2_classifier\u001b[0m:\u001b[36mfn_check\u001b[0m:\u001b[36m25\u001b[0m - \u001b[33m\u001b[1mA warning message.\u001b[0m\n",
      "\u001b[32m2024-05-17 13:22:25.814\u001b[0m | \u001b[31m\u001b[1mERROR   \u001b[0m | \u001b[36miXGBoost._src.interpretable_xgb2_classifier\u001b[0m:\u001b[36mfn_check\u001b[0m:\u001b[36m26\u001b[0m - \u001b[31m\u001b[1mAn error message.\u001b[0m\n",
      "\u001b[32m2024-05-17 13:22:25.815\u001b[0m | \u001b[41m\u001b[1mCRITICAL\u001b[0m | \u001b[36miXGBoost._src.interpretable_xgb2_classifier\u001b[0m:\u001b[36mfn_check\u001b[0m:\u001b[36m27\u001b[0m - \u001b[41m\u001b[1mA critical message.\u001b[0m\n"
     ]
    }
   ],
   "source": [
    "ixgb2C.fn_check(verbose=True)"
   ]
  },
  {
   "cell_type": "code",
   "execution_count": 9,
   "metadata": {},
   "outputs": [],
   "source": [
    "ixgb2C.fn_check(verbose=False)"
   ]
  },
  {
   "cell_type": "code",
   "execution_count": 10,
   "metadata": {},
   "outputs": [
    {
     "name": "stderr",
     "output_type": "stream",
     "text": [
      "\u001b[32m2024-05-17 13:22:40.478\u001b[0m | \u001b[1mINFO    \u001b[0m | \u001b[36miXGBoost._src.interpretable_xgb2_classifier\u001b[0m:\u001b[36mfn_check\u001b[0m:\u001b[36m20\u001b[0m - \u001b[1mIn the fn_check method\u001b[0m\n",
      "\u001b[32m2024-05-17 13:22:40.482\u001b[0m | \u001b[34m\u001b[1mDEBUG   \u001b[0m | \u001b[36miXGBoost._src.interpretable_xgb2_classifier\u001b[0m:\u001b[36mfn_check\u001b[0m:\u001b[36m22\u001b[0m - \u001b[34m\u001b[1mA debug message.\u001b[0m\n",
      "\u001b[32m2024-05-17 13:22:40.484\u001b[0m | \u001b[1mINFO    \u001b[0m | \u001b[36miXGBoost._src.interpretable_xgb2_classifier\u001b[0m:\u001b[36mfn_check\u001b[0m:\u001b[36m23\u001b[0m - \u001b[1mAn info message.\u001b[0m\n",
      "\u001b[32m2024-05-17 13:22:40.486\u001b[0m | \u001b[32m\u001b[1mSUCCESS \u001b[0m | \u001b[36miXGBoost._src.interpretable_xgb2_classifier\u001b[0m:\u001b[36mfn_check\u001b[0m:\u001b[36m24\u001b[0m - \u001b[32m\u001b[1mA success message.\u001b[0m\n",
      "\u001b[32m2024-05-17 13:22:40.487\u001b[0m | \u001b[33m\u001b[1mWARNING \u001b[0m | \u001b[36miXGBoost._src.interpretable_xgb2_classifier\u001b[0m:\u001b[36mfn_check\u001b[0m:\u001b[36m25\u001b[0m - \u001b[33m\u001b[1mA warning message.\u001b[0m\n",
      "\u001b[32m2024-05-17 13:22:40.489\u001b[0m | \u001b[31m\u001b[1mERROR   \u001b[0m | \u001b[36miXGBoost._src.interpretable_xgb2_classifier\u001b[0m:\u001b[36mfn_check\u001b[0m:\u001b[36m26\u001b[0m - \u001b[31m\u001b[1mAn error message.\u001b[0m\n",
      "\u001b[32m2024-05-17 13:22:40.491\u001b[0m | \u001b[41m\u001b[1mCRITICAL\u001b[0m | \u001b[36miXGBoost._src.interpretable_xgb2_classifier\u001b[0m:\u001b[36mfn_check\u001b[0m:\u001b[36m27\u001b[0m - \u001b[41m\u001b[1mA critical message.\u001b[0m\n"
     ]
    }
   ],
   "source": [
    "ixgb2C.fn_check(verbose=True)"
   ]
  },
  {
   "cell_type": "code",
   "execution_count": 11,
   "metadata": {},
   "outputs": [],
   "source": [
    "from iXGBoost import utility"
   ]
  },
  {
   "cell_type": "code",
   "execution_count": 12,
   "metadata": {},
   "outputs": [
    {
     "name": "stderr",
     "output_type": "stream",
     "text": [
      "\u001b[32m2024-05-17 13:23:15.994\u001b[0m | \u001b[1mINFO    \u001b[0m | \u001b[36miXGBoost._src.utility\u001b[0m:\u001b[36mfn_check\u001b[0m:\u001b[36m20\u001b[0m - \u001b[1mIn the fn_check method\u001b[0m\n",
      "\u001b[32m2024-05-17 13:23:15.995\u001b[0m | \u001b[34m\u001b[1mDEBUG   \u001b[0m | \u001b[36miXGBoost._src.utility\u001b[0m:\u001b[36mfn_check\u001b[0m:\u001b[36m22\u001b[0m - \u001b[34m\u001b[1mA debug message.\u001b[0m\n",
      "\u001b[32m2024-05-17 13:23:15.996\u001b[0m | \u001b[1mINFO    \u001b[0m | \u001b[36miXGBoost._src.utility\u001b[0m:\u001b[36mfn_check\u001b[0m:\u001b[36m23\u001b[0m - \u001b[1mAn info message.\u001b[0m\n",
      "\u001b[32m2024-05-17 13:23:15.998\u001b[0m | \u001b[32m\u001b[1mSUCCESS \u001b[0m | \u001b[36miXGBoost._src.utility\u001b[0m:\u001b[36mfn_check\u001b[0m:\u001b[36m24\u001b[0m - \u001b[32m\u001b[1mA success message.\u001b[0m\n",
      "\u001b[32m2024-05-17 13:23:15.999\u001b[0m | \u001b[33m\u001b[1mWARNING \u001b[0m | \u001b[36miXGBoost._src.utility\u001b[0m:\u001b[36mfn_check\u001b[0m:\u001b[36m25\u001b[0m - \u001b[33m\u001b[1mA warning message.\u001b[0m\n",
      "\u001b[32m2024-05-17 13:23:16.000\u001b[0m | \u001b[31m\u001b[1mERROR   \u001b[0m | \u001b[36miXGBoost._src.utility\u001b[0m:\u001b[36mfn_check\u001b[0m:\u001b[36m26\u001b[0m - \u001b[31m\u001b[1mAn error message.\u001b[0m\n",
      "\u001b[32m2024-05-17 13:23:16.000\u001b[0m | \u001b[41m\u001b[1mCRITICAL\u001b[0m | \u001b[36miXGBoost._src.utility\u001b[0m:\u001b[36mfn_check\u001b[0m:\u001b[36m27\u001b[0m - \u001b[41m\u001b[1mA critical message.\u001b[0m\n"
     ]
    }
   ],
   "source": [
    "utility.fn_check(verbose=True)"
   ]
  },
  {
   "cell_type": "code",
   "execution_count": 13,
   "metadata": {},
   "outputs": [],
   "source": [
    "utility.fn_check(verbose=False)"
   ]
  },
  {
   "cell_type": "code",
   "execution_count": 14,
   "metadata": {},
   "outputs": [
    {
     "name": "stderr",
     "output_type": "stream",
     "text": [
      "\u001b[32m2024-05-17 13:23:30.247\u001b[0m | \u001b[1mINFO    \u001b[0m | \u001b[36miXGBoost._src.utility\u001b[0m:\u001b[36mfn_check\u001b[0m:\u001b[36m20\u001b[0m - \u001b[1mIn the fn_check method\u001b[0m\n",
      "\u001b[32m2024-05-17 13:23:30.248\u001b[0m | \u001b[34m\u001b[1mDEBUG   \u001b[0m | \u001b[36miXGBoost._src.utility\u001b[0m:\u001b[36mfn_check\u001b[0m:\u001b[36m22\u001b[0m - \u001b[34m\u001b[1mA debug message.\u001b[0m\n",
      "\u001b[32m2024-05-17 13:23:30.248\u001b[0m | \u001b[1mINFO    \u001b[0m | \u001b[36miXGBoost._src.utility\u001b[0m:\u001b[36mfn_check\u001b[0m:\u001b[36m23\u001b[0m - \u001b[1mAn info message.\u001b[0m\n",
      "\u001b[32m2024-05-17 13:23:30.251\u001b[0m | \u001b[32m\u001b[1mSUCCESS \u001b[0m | \u001b[36miXGBoost._src.utility\u001b[0m:\u001b[36mfn_check\u001b[0m:\u001b[36m24\u001b[0m - \u001b[32m\u001b[1mA success message.\u001b[0m\n",
      "\u001b[32m2024-05-17 13:23:30.251\u001b[0m | \u001b[33m\u001b[1mWARNING \u001b[0m | \u001b[36miXGBoost._src.utility\u001b[0m:\u001b[36mfn_check\u001b[0m:\u001b[36m25\u001b[0m - \u001b[33m\u001b[1mA warning message.\u001b[0m\n",
      "\u001b[32m2024-05-17 13:23:30.251\u001b[0m | \u001b[31m\u001b[1mERROR   \u001b[0m | \u001b[36miXGBoost._src.utility\u001b[0m:\u001b[36mfn_check\u001b[0m:\u001b[36m26\u001b[0m - \u001b[31m\u001b[1mAn error message.\u001b[0m\n",
      "\u001b[32m2024-05-17 13:23:30.254\u001b[0m | \u001b[41m\u001b[1mCRITICAL\u001b[0m | \u001b[36miXGBoost._src.utility\u001b[0m:\u001b[36mfn_check\u001b[0m:\u001b[36m27\u001b[0m - \u001b[41m\u001b[1mA critical message.\u001b[0m\n"
     ]
    }
   ],
   "source": [
    "utility.fn_check(verbose=True)"
   ]
  },
  {
   "cell_type": "code",
   "execution_count": null,
   "metadata": {},
   "outputs": [],
   "source": []
  }
 ],
 "metadata": {
  "kernelspec": {
   "display_name": "demo01",
   "language": "python",
   "name": "python3"
  },
  "language_info": {
   "codemirror_mode": {
    "name": "ipython",
    "version": 3
   },
   "file_extension": ".py",
   "mimetype": "text/x-python",
   "name": "python",
   "nbconvert_exporter": "python",
   "pygments_lexer": "ipython3",
   "version": "3.11.8"
  }
 },
 "nbformat": 4,
 "nbformat_minor": 2
}

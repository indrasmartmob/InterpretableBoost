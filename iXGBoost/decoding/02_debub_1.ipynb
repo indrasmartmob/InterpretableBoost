{
 "cells": [
  {
   "cell_type": "code",
   "execution_count": 1,
   "metadata": {},
   "outputs": [
    {
     "data": {
      "text/plain": [
       "['c:\\\\D_Drive\\\\Indra\\\\github_projects\\\\InterpretableBoost\\\\iXGBoost\\\\decoding',\n",
       " 'c:\\\\Users\\\\iammo\\\\anaconda3\\\\envs\\\\demo01\\\\python311.zip',\n",
       " 'c:\\\\Users\\\\iammo\\\\anaconda3\\\\envs\\\\demo01\\\\DLLs',\n",
       " 'c:\\\\Users\\\\iammo\\\\anaconda3\\\\envs\\\\demo01\\\\Lib',\n",
       " 'c:\\\\Users\\\\iammo\\\\anaconda3\\\\envs\\\\demo01',\n",
       " '',\n",
       " 'c:\\\\Users\\\\iammo\\\\anaconda3\\\\envs\\\\demo01\\\\Lib\\\\site-packages',\n",
       " 'c:\\\\Users\\\\iammo\\\\anaconda3\\\\envs\\\\demo01\\\\Lib\\\\site-packages\\\\win32',\n",
       " 'c:\\\\Users\\\\iammo\\\\anaconda3\\\\envs\\\\demo01\\\\Lib\\\\site-packages\\\\win32\\\\lib',\n",
       " 'c:\\\\Users\\\\iammo\\\\anaconda3\\\\envs\\\\demo01\\\\Lib\\\\site-packages\\\\Pythonwin']"
      ]
     },
     "execution_count": 1,
     "metadata": {},
     "output_type": "execute_result"
    }
   ],
   "source": [
    "import sys\n",
    "sys.path"
   ]
  },
  {
   "cell_type": "code",
   "execution_count": 2,
   "metadata": {},
   "outputs": [
    {
     "data": {
      "text/plain": [
       "['C:\\\\D_Drive\\\\Indra\\\\github_projects\\\\InterpretableBoost',\n",
       " 'c:\\\\D_Drive\\\\Indra\\\\github_projects\\\\InterpretableBoost\\\\iXGBoost\\\\decoding',\n",
       " 'c:\\\\Users\\\\iammo\\\\anaconda3\\\\envs\\\\demo01\\\\python311.zip',\n",
       " 'c:\\\\Users\\\\iammo\\\\anaconda3\\\\envs\\\\demo01\\\\DLLs',\n",
       " 'c:\\\\Users\\\\iammo\\\\anaconda3\\\\envs\\\\demo01\\\\Lib',\n",
       " 'c:\\\\Users\\\\iammo\\\\anaconda3\\\\envs\\\\demo01',\n",
       " '',\n",
       " 'c:\\\\Users\\\\iammo\\\\anaconda3\\\\envs\\\\demo01\\\\Lib\\\\site-packages',\n",
       " 'c:\\\\Users\\\\iammo\\\\anaconda3\\\\envs\\\\demo01\\\\Lib\\\\site-packages\\\\win32',\n",
       " 'c:\\\\Users\\\\iammo\\\\anaconda3\\\\envs\\\\demo01\\\\Lib\\\\site-packages\\\\win32\\\\lib',\n",
       " 'c:\\\\Users\\\\iammo\\\\anaconda3\\\\envs\\\\demo01\\\\Lib\\\\site-packages\\\\Pythonwin']"
      ]
     },
     "execution_count": 2,
     "metadata": {},
     "output_type": "execute_result"
    }
   ],
   "source": [
    "package_path=\"C:\\D_Drive\\Indra\\github_projects\\InterpretableBoost\"\n",
    "sys.path.insert(0,package_path)\n",
    "sys.path"
   ]
  },
  {
   "cell_type": "code",
   "execution_count": 3,
   "metadata": {},
   "outputs": [],
   "source": [
    "from iXGBoost import utility\n",
    "from iXGBoost import interpretable_xgb2_classifier as ixgb2C\n",
    "from iXGBoost import interpretable_xgb2 as ixgb2"
   ]
  },
  {
   "cell_type": "code",
   "execution_count": 4,
   "metadata": {},
   "outputs": [
    {
     "name": "stderr",
     "output_type": "stream",
     "text": [
      "\u001b[32m2024-05-17 17:54:32.709\u001b[0m | \u001b[1mINFO    \u001b[0m | \u001b[36miXGBoost._src.utility\u001b[0m:\u001b[36mfn_check\u001b[0m:\u001b[36m20\u001b[0m - \u001b[1mIn the fn_check method\u001b[0m\n",
      "\u001b[32m2024-05-17 17:54:32.714\u001b[0m | \u001b[34m\u001b[1mDEBUG   \u001b[0m | \u001b[36miXGBoost._src.utility\u001b[0m:\u001b[36mfn_check\u001b[0m:\u001b[36m22\u001b[0m - \u001b[34m\u001b[1mA debug message.\u001b[0m\n",
      "\u001b[32m2024-05-17 17:54:32.715\u001b[0m | \u001b[1mINFO    \u001b[0m | \u001b[36miXGBoost._src.utility\u001b[0m:\u001b[36mfn_check\u001b[0m:\u001b[36m23\u001b[0m - \u001b[1mAn info message.\u001b[0m\n",
      "\u001b[32m2024-05-17 17:54:32.716\u001b[0m | \u001b[32m\u001b[1mSUCCESS \u001b[0m | \u001b[36miXGBoost._src.utility\u001b[0m:\u001b[36mfn_check\u001b[0m:\u001b[36m24\u001b[0m - \u001b[32m\u001b[1mA success message.\u001b[0m\n",
      "\u001b[32m2024-05-17 17:54:32.718\u001b[0m | \u001b[33m\u001b[1mWARNING \u001b[0m | \u001b[36miXGBoost._src.utility\u001b[0m:\u001b[36mfn_check\u001b[0m:\u001b[36m25\u001b[0m - \u001b[33m\u001b[1mA warning message.\u001b[0m\n",
      "\u001b[32m2024-05-17 17:54:32.719\u001b[0m | \u001b[31m\u001b[1mERROR   \u001b[0m | \u001b[36miXGBoost._src.utility\u001b[0m:\u001b[36mfn_check\u001b[0m:\u001b[36m26\u001b[0m - \u001b[31m\u001b[1mAn error message.\u001b[0m\n",
      "\u001b[32m2024-05-17 17:54:32.720\u001b[0m | \u001b[41m\u001b[1mCRITICAL\u001b[0m | \u001b[36miXGBoost._src.utility\u001b[0m:\u001b[36mfn_check\u001b[0m:\u001b[36m27\u001b[0m - \u001b[41m\u001b[1mA critical message.\u001b[0m\n"
     ]
    }
   ],
   "source": [
    "utility.fn_check(verbose=True)"
   ]
  },
  {
   "cell_type": "code",
   "execution_count": 5,
   "metadata": {},
   "outputs": [
    {
     "name": "stderr",
     "output_type": "stream",
     "text": [
      "\u001b[32m2024-05-17 17:54:32.955\u001b[0m | \u001b[1mINFO    \u001b[0m | \u001b[36miXGBoost._src.interpretable_xgb2_classifier\u001b[0m:\u001b[36mfn_check\u001b[0m:\u001b[36m21\u001b[0m - \u001b[1mIn the fn_check method\u001b[0m\n",
      "\u001b[32m2024-05-17 17:54:32.956\u001b[0m | \u001b[34m\u001b[1mDEBUG   \u001b[0m | \u001b[36miXGBoost._src.interpretable_xgb2_classifier\u001b[0m:\u001b[36mfn_check\u001b[0m:\u001b[36m23\u001b[0m - \u001b[34m\u001b[1mA debug message.\u001b[0m\n",
      "\u001b[32m2024-05-17 17:54:32.958\u001b[0m | \u001b[1mINFO    \u001b[0m | \u001b[36miXGBoost._src.interpretable_xgb2_classifier\u001b[0m:\u001b[36mfn_check\u001b[0m:\u001b[36m24\u001b[0m - \u001b[1mAn info message.\u001b[0m\n",
      "\u001b[32m2024-05-17 17:54:32.959\u001b[0m | \u001b[32m\u001b[1mSUCCESS \u001b[0m | \u001b[36miXGBoost._src.interpretable_xgb2_classifier\u001b[0m:\u001b[36mfn_check\u001b[0m:\u001b[36m25\u001b[0m - \u001b[32m\u001b[1mA success message.\u001b[0m\n",
      "\u001b[32m2024-05-17 17:54:32.960\u001b[0m | \u001b[33m\u001b[1mWARNING \u001b[0m | \u001b[36miXGBoost._src.interpretable_xgb2_classifier\u001b[0m:\u001b[36mfn_check\u001b[0m:\u001b[36m26\u001b[0m - \u001b[33m\u001b[1mA warning message.\u001b[0m\n",
      "\u001b[32m2024-05-17 17:54:32.961\u001b[0m | \u001b[31m\u001b[1mERROR   \u001b[0m | \u001b[36miXGBoost._src.interpretable_xgb2_classifier\u001b[0m:\u001b[36mfn_check\u001b[0m:\u001b[36m27\u001b[0m - \u001b[31m\u001b[1mAn error message.\u001b[0m\n",
      "\u001b[32m2024-05-17 17:54:32.962\u001b[0m | \u001b[41m\u001b[1mCRITICAL\u001b[0m | \u001b[36miXGBoost._src.interpretable_xgb2_classifier\u001b[0m:\u001b[36mfn_check\u001b[0m:\u001b[36m28\u001b[0m - \u001b[41m\u001b[1mA critical message.\u001b[0m\n"
     ]
    }
   ],
   "source": [
    "ixgb2C.fn_check(verbose=True)"
   ]
  },
  {
   "cell_type": "code",
   "execution_count": 6,
   "metadata": {},
   "outputs": [
    {
     "name": "stderr",
     "output_type": "stream",
     "text": [
      "\u001b[32m2024-05-17 17:54:33.202\u001b[0m | \u001b[1mINFO    \u001b[0m | \u001b[36miXGBoost._src.interpretable_xgb2\u001b[0m:\u001b[36mfn_check\u001b[0m:\u001b[36m20\u001b[0m - \u001b[1mIn the fn_check method\u001b[0m\n",
      "\u001b[32m2024-05-17 17:54:33.211\u001b[0m | \u001b[34m\u001b[1mDEBUG   \u001b[0m | \u001b[36miXGBoost._src.interpretable_xgb2\u001b[0m:\u001b[36mfn_check\u001b[0m:\u001b[36m22\u001b[0m - \u001b[34m\u001b[1mA debug message.\u001b[0m\n",
      "\u001b[32m2024-05-17 17:54:33.214\u001b[0m | \u001b[1mINFO    \u001b[0m | \u001b[36miXGBoost._src.interpretable_xgb2\u001b[0m:\u001b[36mfn_check\u001b[0m:\u001b[36m23\u001b[0m - \u001b[1mAn info message.\u001b[0m\n",
      "\u001b[32m2024-05-17 17:54:33.215\u001b[0m | \u001b[32m\u001b[1mSUCCESS \u001b[0m | \u001b[36miXGBoost._src.interpretable_xgb2\u001b[0m:\u001b[36mfn_check\u001b[0m:\u001b[36m24\u001b[0m - \u001b[32m\u001b[1mA success message.\u001b[0m\n",
      "\u001b[32m2024-05-17 17:54:33.216\u001b[0m | \u001b[33m\u001b[1mWARNING \u001b[0m | \u001b[36miXGBoost._src.interpretable_xgb2\u001b[0m:\u001b[36mfn_check\u001b[0m:\u001b[36m25\u001b[0m - \u001b[33m\u001b[1mA warning message.\u001b[0m\n",
      "\u001b[32m2024-05-17 17:54:33.218\u001b[0m | \u001b[31m\u001b[1mERROR   \u001b[0m | \u001b[36miXGBoost._src.interpretable_xgb2\u001b[0m:\u001b[36mfn_check\u001b[0m:\u001b[36m26\u001b[0m - \u001b[31m\u001b[1mAn error message.\u001b[0m\n",
      "\u001b[32m2024-05-17 17:54:33.219\u001b[0m | \u001b[41m\u001b[1mCRITICAL\u001b[0m | \u001b[36miXGBoost._src.interpretable_xgb2\u001b[0m:\u001b[36mfn_check\u001b[0m:\u001b[36m27\u001b[0m - \u001b[41m\u001b[1mA critical message.\u001b[0m\n"
     ]
    }
   ],
   "source": [
    "ixgb2.fn_check(verbose=True)"
   ]
  },
  {
   "cell_type": "code",
   "execution_count": 7,
   "metadata": {},
   "outputs": [],
   "source": [
    "hyperParams = {\n",
    "    \"max_depth\":2,\n",
    "    \"n_estimators\": 10,\n",
    "    \"eta\": 0.1,\n",
    "    \"early_stopping_rounds\": 10,\n",
    "    \"min_child_weight\": 9,\n",
    "    \"gamma\": 3,\n",
    "    \"reg_alpha\": 10,\n",
    "    \"reg_lambda\": 1,\n",
    "    \"eval_metric\": [\"logloss\", \"auc\"]\n",
    "}"
   ]
  },
  {
   "cell_type": "code",
   "execution_count": 8,
   "metadata": {},
   "outputs": [
    {
     "name": "stderr",
     "output_type": "stream",
     "text": [
      "\u001b[32m2024-05-17 17:54:33.709\u001b[0m | \u001b[1mINFO    \u001b[0m | \u001b[36miXGBoost._src.interpretable_xgb2_classifier\u001b[0m:\u001b[36m__init__\u001b[0m:\u001b[36m51\u001b[0m - \u001b[1mStarting of __init__:iXGBoost._src.interpretable_xgb2_classifier\u001b[0m\n",
      "\u001b[32m2024-05-17 17:54:33.711\u001b[0m | \u001b[1mINFO    \u001b[0m | \u001b[36miXGBoost._src.interpretable_xgb2_classifier\u001b[0m:\u001b[36m__init__\u001b[0m:\u001b[36m55\u001b[0m - \u001b[1mEnding of __init__:iXGBoost._src.interpretable_xgb2_classifier\u001b[0m\n"
     ]
    },
    {
     "data": {
      "text/html": [
       "<style>#sk-container-id-1 {color: black;}#sk-container-id-1 pre{padding: 0;}#sk-container-id-1 div.sk-toggleable {background-color: white;}#sk-container-id-1 label.sk-toggleable__label {cursor: pointer;display: block;width: 100%;margin-bottom: 0;padding: 0.3em;box-sizing: border-box;text-align: center;}#sk-container-id-1 label.sk-toggleable__label-arrow:before {content: \"▸\";float: left;margin-right: 0.25em;color: #696969;}#sk-container-id-1 label.sk-toggleable__label-arrow:hover:before {color: black;}#sk-container-id-1 div.sk-estimator:hover label.sk-toggleable__label-arrow:before {color: black;}#sk-container-id-1 div.sk-toggleable__content {max-height: 0;max-width: 0;overflow: hidden;text-align: left;background-color: #f0f8ff;}#sk-container-id-1 div.sk-toggleable__content pre {margin: 0.2em;color: black;border-radius: 0.25em;background-color: #f0f8ff;}#sk-container-id-1 input.sk-toggleable__control:checked~div.sk-toggleable__content {max-height: 200px;max-width: 100%;overflow: auto;}#sk-container-id-1 input.sk-toggleable__control:checked~label.sk-toggleable__label-arrow:before {content: \"▾\";}#sk-container-id-1 div.sk-estimator input.sk-toggleable__control:checked~label.sk-toggleable__label {background-color: #d4ebff;}#sk-container-id-1 div.sk-label input.sk-toggleable__control:checked~label.sk-toggleable__label {background-color: #d4ebff;}#sk-container-id-1 input.sk-hidden--visually {border: 0;clip: rect(1px 1px 1px 1px);clip: rect(1px, 1px, 1px, 1px);height: 1px;margin: -1px;overflow: hidden;padding: 0;position: absolute;width: 1px;}#sk-container-id-1 div.sk-estimator {font-family: monospace;background-color: #f0f8ff;border: 1px dotted black;border-radius: 0.25em;box-sizing: border-box;margin-bottom: 0.5em;}#sk-container-id-1 div.sk-estimator:hover {background-color: #d4ebff;}#sk-container-id-1 div.sk-parallel-item::after {content: \"\";width: 100%;border-bottom: 1px solid gray;flex-grow: 1;}#sk-container-id-1 div.sk-label:hover label.sk-toggleable__label {background-color: #d4ebff;}#sk-container-id-1 div.sk-serial::before {content: \"\";position: absolute;border-left: 1px solid gray;box-sizing: border-box;top: 0;bottom: 0;left: 50%;z-index: 0;}#sk-container-id-1 div.sk-serial {display: flex;flex-direction: column;align-items: center;background-color: white;padding-right: 0.2em;padding-left: 0.2em;position: relative;}#sk-container-id-1 div.sk-item {position: relative;z-index: 1;}#sk-container-id-1 div.sk-parallel {display: flex;align-items: stretch;justify-content: center;background-color: white;position: relative;}#sk-container-id-1 div.sk-item::before, #sk-container-id-1 div.sk-parallel-item::before {content: \"\";position: absolute;border-left: 1px solid gray;box-sizing: border-box;top: 0;bottom: 0;left: 50%;z-index: -1;}#sk-container-id-1 div.sk-parallel-item {display: flex;flex-direction: column;z-index: 1;position: relative;background-color: white;}#sk-container-id-1 div.sk-parallel-item:first-child::after {align-self: flex-end;width: 50%;}#sk-container-id-1 div.sk-parallel-item:last-child::after {align-self: flex-start;width: 50%;}#sk-container-id-1 div.sk-parallel-item:only-child::after {width: 0;}#sk-container-id-1 div.sk-dashed-wrapped {border: 1px dashed gray;margin: 0 0.4em 0.5em 0.4em;box-sizing: border-box;padding-bottom: 0.4em;background-color: white;}#sk-container-id-1 div.sk-label label {font-family: monospace;font-weight: bold;display: inline-block;line-height: 1.2em;}#sk-container-id-1 div.sk-label-container {text-align: center;}#sk-container-id-1 div.sk-container {/* jupyter's `normalize.less` sets `[hidden] { display: none; }` but bootstrap.min.css set `[hidden] { display: none !important; }` so we also need the `!important` here to be able to override the default hidden behavior on the sphinx rendered scikit-learn.org. See: https://github.com/scikit-learn/scikit-learn/issues/21755 */display: inline-block !important;position: relative;}#sk-container-id-1 div.sk-text-repr-fallback {display: none;}</style><div id=\"sk-container-id-1\" class=\"sk-top-container\"><div class=\"sk-text-repr-fallback\"><pre>InterpretableXGBClassifier(base_score=None, booster=None, callbacks=None,\n",
       "                           colsample_bylevel=None, colsample_bynode=None,\n",
       "                           colsample_bytree=None, device=None,\n",
       "                           early_stopping_rounds=10, enable_categorical=False,\n",
       "                           eta=0.1, eval_metric=[&#x27;logloss&#x27;, &#x27;auc&#x27;],\n",
       "                           feature_types=None, gamma=3, grow_policy=None,\n",
       "                           importance_type=None, interaction_constraints=None,\n",
       "                           learning_rate=None, max_bin=None,\n",
       "                           max_cat_threshold=None, max_cat_to_onehot=None,\n",
       "                           max_delta_step=None, max_depth=2, max_leaves=None,\n",
       "                           min_child_weight=9, missing=nan,\n",
       "                           monotone_constraints=None, multi_strategy=None,\n",
       "                           n_estimators=10, n_jobs=None, num_parallel_tree=None, ...)</pre><b>In a Jupyter environment, please rerun this cell to show the HTML representation or trust the notebook. <br />On GitHub, the HTML representation is unable to render, please try loading this page with nbviewer.org.</b></div><div class=\"sk-container\" hidden><div class=\"sk-item\"><div class=\"sk-estimator sk-toggleable\"><input class=\"sk-toggleable__control sk-hidden--visually\" id=\"sk-estimator-id-1\" type=\"checkbox\" checked><label for=\"sk-estimator-id-1\" class=\"sk-toggleable__label sk-toggleable__label-arrow\">InterpretableXGBClassifier</label><div class=\"sk-toggleable__content\"><pre>InterpretableXGBClassifier(base_score=None, booster=None, callbacks=None,\n",
       "                           colsample_bylevel=None, colsample_bynode=None,\n",
       "                           colsample_bytree=None, device=None,\n",
       "                           early_stopping_rounds=10, enable_categorical=False,\n",
       "                           eta=0.1, eval_metric=[&#x27;logloss&#x27;, &#x27;auc&#x27;],\n",
       "                           feature_types=None, gamma=3, grow_policy=None,\n",
       "                           importance_type=None, interaction_constraints=None,\n",
       "                           learning_rate=None, max_bin=None,\n",
       "                           max_cat_threshold=None, max_cat_to_onehot=None,\n",
       "                           max_delta_step=None, max_depth=2, max_leaves=None,\n",
       "                           min_child_weight=9, missing=nan,\n",
       "                           monotone_constraints=None, multi_strategy=None,\n",
       "                           n_estimators=10, n_jobs=None, num_parallel_tree=None, ...)</pre></div></div></div></div></div>"
      ],
      "text/plain": [
       "InterpretableXGBClassifier(base_score=None, booster=None, callbacks=None,\n",
       "                           colsample_bylevel=None, colsample_bynode=None,\n",
       "                           colsample_bytree=None, device=None,\n",
       "                           early_stopping_rounds=10, enable_categorical=False,\n",
       "                           eta=0.1, eval_metric=['logloss', 'auc'],\n",
       "                           feature_types=None, gamma=3, grow_policy=None,\n",
       "                           importance_type=None, interaction_constraints=None,\n",
       "                           learning_rate=None, max_bin=None,\n",
       "                           max_cat_threshold=None, max_cat_to_onehot=None,\n",
       "                           max_delta_step=None, max_depth=2, max_leaves=None,\n",
       "                           min_child_weight=9, missing=nan,\n",
       "                           monotone_constraints=None, multi_strategy=None,\n",
       "                           n_estimators=10, n_jobs=None, num_parallel_tree=None, ...)"
      ]
     },
     "execution_count": 8,
     "metadata": {},
     "output_type": "execute_result"
    }
   ],
   "source": [
    "c = ixgb2C.InterpretableXGBClassifier(increasing_vars = [], decreasing_vars = [],**hyperParams)\n",
    "c"
   ]
  },
  {
   "cell_type": "code",
   "execution_count": 9,
   "metadata": {},
   "outputs": [
    {
     "name": "stderr",
     "output_type": "stream",
     "text": [
      "\u001b[32m2024-05-17 17:54:33.958\u001b[0m | \u001b[1mINFO    \u001b[0m | \u001b[36miXGBoost._src.interpretable_xgb2_classifier\u001b[0m:\u001b[36m__init__\u001b[0m:\u001b[36m51\u001b[0m - \u001b[1mStarting of __init__:iXGBoost._src.interpretable_xgb2_classifier\u001b[0m\n",
      "\u001b[32m2024-05-17 17:54:33.963\u001b[0m | \u001b[1mINFO    \u001b[0m | \u001b[36miXGBoost._src.interpretable_xgb2_classifier\u001b[0m:\u001b[36m__init__\u001b[0m:\u001b[36m55\u001b[0m - \u001b[1mEnding of __init__:iXGBoost._src.interpretable_xgb2_classifier\u001b[0m\n"
     ]
    },
    {
     "data": {
      "text/html": [
       "<style>#sk-container-id-2 {color: black;}#sk-container-id-2 pre{padding: 0;}#sk-container-id-2 div.sk-toggleable {background-color: white;}#sk-container-id-2 label.sk-toggleable__label {cursor: pointer;display: block;width: 100%;margin-bottom: 0;padding: 0.3em;box-sizing: border-box;text-align: center;}#sk-container-id-2 label.sk-toggleable__label-arrow:before {content: \"▸\";float: left;margin-right: 0.25em;color: #696969;}#sk-container-id-2 label.sk-toggleable__label-arrow:hover:before {color: black;}#sk-container-id-2 div.sk-estimator:hover label.sk-toggleable__label-arrow:before {color: black;}#sk-container-id-2 div.sk-toggleable__content {max-height: 0;max-width: 0;overflow: hidden;text-align: left;background-color: #f0f8ff;}#sk-container-id-2 div.sk-toggleable__content pre {margin: 0.2em;color: black;border-radius: 0.25em;background-color: #f0f8ff;}#sk-container-id-2 input.sk-toggleable__control:checked~div.sk-toggleable__content {max-height: 200px;max-width: 100%;overflow: auto;}#sk-container-id-2 input.sk-toggleable__control:checked~label.sk-toggleable__label-arrow:before {content: \"▾\";}#sk-container-id-2 div.sk-estimator input.sk-toggleable__control:checked~label.sk-toggleable__label {background-color: #d4ebff;}#sk-container-id-2 div.sk-label input.sk-toggleable__control:checked~label.sk-toggleable__label {background-color: #d4ebff;}#sk-container-id-2 input.sk-hidden--visually {border: 0;clip: rect(1px 1px 1px 1px);clip: rect(1px, 1px, 1px, 1px);height: 1px;margin: -1px;overflow: hidden;padding: 0;position: absolute;width: 1px;}#sk-container-id-2 div.sk-estimator {font-family: monospace;background-color: #f0f8ff;border: 1px dotted black;border-radius: 0.25em;box-sizing: border-box;margin-bottom: 0.5em;}#sk-container-id-2 div.sk-estimator:hover {background-color: #d4ebff;}#sk-container-id-2 div.sk-parallel-item::after {content: \"\";width: 100%;border-bottom: 1px solid gray;flex-grow: 1;}#sk-container-id-2 div.sk-label:hover label.sk-toggleable__label {background-color: #d4ebff;}#sk-container-id-2 div.sk-serial::before {content: \"\";position: absolute;border-left: 1px solid gray;box-sizing: border-box;top: 0;bottom: 0;left: 50%;z-index: 0;}#sk-container-id-2 div.sk-serial {display: flex;flex-direction: column;align-items: center;background-color: white;padding-right: 0.2em;padding-left: 0.2em;position: relative;}#sk-container-id-2 div.sk-item {position: relative;z-index: 1;}#sk-container-id-2 div.sk-parallel {display: flex;align-items: stretch;justify-content: center;background-color: white;position: relative;}#sk-container-id-2 div.sk-item::before, #sk-container-id-2 div.sk-parallel-item::before {content: \"\";position: absolute;border-left: 1px solid gray;box-sizing: border-box;top: 0;bottom: 0;left: 50%;z-index: -1;}#sk-container-id-2 div.sk-parallel-item {display: flex;flex-direction: column;z-index: 1;position: relative;background-color: white;}#sk-container-id-2 div.sk-parallel-item:first-child::after {align-self: flex-end;width: 50%;}#sk-container-id-2 div.sk-parallel-item:last-child::after {align-self: flex-start;width: 50%;}#sk-container-id-2 div.sk-parallel-item:only-child::after {width: 0;}#sk-container-id-2 div.sk-dashed-wrapped {border: 1px dashed gray;margin: 0 0.4em 0.5em 0.4em;box-sizing: border-box;padding-bottom: 0.4em;background-color: white;}#sk-container-id-2 div.sk-label label {font-family: monospace;font-weight: bold;display: inline-block;line-height: 1.2em;}#sk-container-id-2 div.sk-label-container {text-align: center;}#sk-container-id-2 div.sk-container {/* jupyter's `normalize.less` sets `[hidden] { display: none; }` but bootstrap.min.css set `[hidden] { display: none !important; }` so we also need the `!important` here to be able to override the default hidden behavior on the sphinx rendered scikit-learn.org. See: https://github.com/scikit-learn/scikit-learn/issues/21755 */display: inline-block !important;position: relative;}#sk-container-id-2 div.sk-text-repr-fallback {display: none;}</style><div id=\"sk-container-id-2\" class=\"sk-top-container\"><div class=\"sk-text-repr-fallback\"><pre>InterpretableXGBClassifier(base_score=None, booster=None, callbacks=None,\n",
       "                           class_verbose=True, colsample_bylevel=None,\n",
       "                           colsample_bynode=None, colsample_bytree=None,\n",
       "                           device=None, early_stopping_rounds=10,\n",
       "                           enable_categorical=False, eta=0.1,\n",
       "                           eval_metric=[&#x27;logloss&#x27;, &#x27;auc&#x27;], feature_types=None,\n",
       "                           gamma=3, grow_policy=None, importance_type=None,\n",
       "                           interaction_constraints=None, learning_rate=None,\n",
       "                           max_bin=None, max_cat_threshold=None,\n",
       "                           max_cat_to_onehot=None, max_delta_step=None,\n",
       "                           max_depth=2, max_leaves=None, min_child_weight=9,\n",
       "                           missing=nan, monotone_constraints=None,\n",
       "                           multi_strategy=None, n_estimators=10, n_jobs=None, ...)</pre><b>In a Jupyter environment, please rerun this cell to show the HTML representation or trust the notebook. <br />On GitHub, the HTML representation is unable to render, please try loading this page with nbviewer.org.</b></div><div class=\"sk-container\" hidden><div class=\"sk-item\"><div class=\"sk-estimator sk-toggleable\"><input class=\"sk-toggleable__control sk-hidden--visually\" id=\"sk-estimator-id-2\" type=\"checkbox\" checked><label for=\"sk-estimator-id-2\" class=\"sk-toggleable__label sk-toggleable__label-arrow\">InterpretableXGBClassifier</label><div class=\"sk-toggleable__content\"><pre>InterpretableXGBClassifier(base_score=None, booster=None, callbacks=None,\n",
       "                           class_verbose=True, colsample_bylevel=None,\n",
       "                           colsample_bynode=None, colsample_bytree=None,\n",
       "                           device=None, early_stopping_rounds=10,\n",
       "                           enable_categorical=False, eta=0.1,\n",
       "                           eval_metric=[&#x27;logloss&#x27;, &#x27;auc&#x27;], feature_types=None,\n",
       "                           gamma=3, grow_policy=None, importance_type=None,\n",
       "                           interaction_constraints=None, learning_rate=None,\n",
       "                           max_bin=None, max_cat_threshold=None,\n",
       "                           max_cat_to_onehot=None, max_delta_step=None,\n",
       "                           max_depth=2, max_leaves=None, min_child_weight=9,\n",
       "                           missing=nan, monotone_constraints=None,\n",
       "                           multi_strategy=None, n_estimators=10, n_jobs=None, ...)</pre></div></div></div></div></div>"
      ],
      "text/plain": [
       "InterpretableXGBClassifier(base_score=None, booster=None, callbacks=None,\n",
       "                           class_verbose=True, colsample_bylevel=None,\n",
       "                           colsample_bynode=None, colsample_bytree=None,\n",
       "                           device=None, early_stopping_rounds=10,\n",
       "                           enable_categorical=False, eta=0.1,\n",
       "                           eval_metric=['logloss', 'auc'], feature_types=None,\n",
       "                           gamma=3, grow_policy=None, importance_type=None,\n",
       "                           interaction_constraints=None, learning_rate=None,\n",
       "                           max_bin=None, max_cat_threshold=None,\n",
       "                           max_cat_to_onehot=None, max_delta_step=None,\n",
       "                           max_depth=2, max_leaves=None, min_child_weight=9,\n",
       "                           missing=nan, monotone_constraints=None,\n",
       "                           multi_strategy=None, n_estimators=10, n_jobs=None, ...)"
      ]
     },
     "execution_count": 9,
     "metadata": {},
     "output_type": "execute_result"
    }
   ],
   "source": [
    "d = ixgb2C.InterpretableXGBClassifier(class_verbose=True, increasing_vars = [], decreasing_vars = [],**hyperParams)\n",
    "d"
   ]
  },
  {
   "cell_type": "code",
   "execution_count": null,
   "metadata": {},
   "outputs": [],
   "source": []
  }
 ],
 "metadata": {
  "kernelspec": {
   "display_name": "demo01",
   "language": "python",
   "name": "python3"
  },
  "language_info": {
   "codemirror_mode": {
    "name": "ipython",
    "version": 3
   },
   "file_extension": ".py",
   "mimetype": "text/x-python",
   "name": "python",
   "nbconvert_exporter": "python",
   "pygments_lexer": "ipython3",
   "version": "3.11.8"
  }
 },
 "nbformat": 4,
 "nbformat_minor": 2
}

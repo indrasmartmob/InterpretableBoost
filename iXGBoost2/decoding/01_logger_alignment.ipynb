{
 "cells": [
  {
   "cell_type": "code",
   "execution_count": 1,
   "metadata": {},
   "outputs": [
    {
     "data": {
      "text/plain": [
       "['c:\\\\D_Drive\\\\Indra\\\\github_projects\\\\InterpretableBoost\\\\iXGBoost2\\\\decoding',\n",
       " 'c:\\\\Users\\\\iammo\\\\anaconda3\\\\envs\\\\demo01\\\\python311.zip',\n",
       " 'c:\\\\Users\\\\iammo\\\\anaconda3\\\\envs\\\\demo01\\\\DLLs',\n",
       " 'c:\\\\Users\\\\iammo\\\\anaconda3\\\\envs\\\\demo01\\\\Lib',\n",
       " 'c:\\\\Users\\\\iammo\\\\anaconda3\\\\envs\\\\demo01',\n",
       " '',\n",
       " 'c:\\\\Users\\\\iammo\\\\anaconda3\\\\envs\\\\demo01\\\\Lib\\\\site-packages',\n",
       " 'c:\\\\Users\\\\iammo\\\\anaconda3\\\\envs\\\\demo01\\\\Lib\\\\site-packages\\\\win32',\n",
       " 'c:\\\\Users\\\\iammo\\\\anaconda3\\\\envs\\\\demo01\\\\Lib\\\\site-packages\\\\win32\\\\lib',\n",
       " 'c:\\\\Users\\\\iammo\\\\anaconda3\\\\envs\\\\demo01\\\\Lib\\\\site-packages\\\\Pythonwin']"
      ]
     },
     "execution_count": 1,
     "metadata": {},
     "output_type": "execute_result"
    }
   ],
   "source": [
    "import sys\n",
    "sys.path"
   ]
  },
  {
   "cell_type": "code",
   "execution_count": 2,
   "metadata": {},
   "outputs": [
    {
     "data": {
      "text/plain": [
       "['C:\\\\D_Drive\\\\Indra\\\\github_projects\\\\InterpretableBoost',\n",
       " 'c:\\\\D_Drive\\\\Indra\\\\github_projects\\\\InterpretableBoost\\\\iXGBoost2\\\\decoding',\n",
       " 'c:\\\\Users\\\\iammo\\\\anaconda3\\\\envs\\\\demo01\\\\python311.zip',\n",
       " 'c:\\\\Users\\\\iammo\\\\anaconda3\\\\envs\\\\demo01\\\\DLLs',\n",
       " 'c:\\\\Users\\\\iammo\\\\anaconda3\\\\envs\\\\demo01\\\\Lib',\n",
       " 'c:\\\\Users\\\\iammo\\\\anaconda3\\\\envs\\\\demo01',\n",
       " '',\n",
       " 'c:\\\\Users\\\\iammo\\\\anaconda3\\\\envs\\\\demo01\\\\Lib\\\\site-packages',\n",
       " 'c:\\\\Users\\\\iammo\\\\anaconda3\\\\envs\\\\demo01\\\\Lib\\\\site-packages\\\\win32',\n",
       " 'c:\\\\Users\\\\iammo\\\\anaconda3\\\\envs\\\\demo01\\\\Lib\\\\site-packages\\\\win32\\\\lib',\n",
       " 'c:\\\\Users\\\\iammo\\\\anaconda3\\\\envs\\\\demo01\\\\Lib\\\\site-packages\\\\Pythonwin']"
      ]
     },
     "execution_count": 2,
     "metadata": {},
     "output_type": "execute_result"
    }
   ],
   "source": [
    "package_path=\"C:\\D_Drive\\Indra\\github_projects\\InterpretableBoost\"\n",
    "sys.path.insert(0,package_path)\n",
    "sys.path"
   ]
  },
  {
   "cell_type": "code",
   "execution_count": 3,
   "metadata": {},
   "outputs": [],
   "source": [
    "from iXGBoost2 import interpretable_xgb"
   ]
  },
  {
   "cell_type": "code",
   "execution_count": 4,
   "metadata": {},
   "outputs": [
    {
     "name": "stderr",
     "output_type": "stream",
     "text": [
      "\u001b[32m2024-05-16 23:59:06.711\u001b[0m | \u001b[1mINFO    \u001b[0m | \u001b[36miXGBoost2._src.interpretable_xgb\u001b[0m:\u001b[36mfn_check\u001b[0m:\u001b[36m20\u001b[0m - \u001b[1mIn the fn_check method\u001b[0m\n",
      "\u001b[32m2024-05-16 23:59:06.718\u001b[0m | \u001b[34m\u001b[1mDEBUG   \u001b[0m | \u001b[36miXGBoost2._src.interpretable_xgb\u001b[0m:\u001b[36mfn_check\u001b[0m:\u001b[36m22\u001b[0m - \u001b[34m\u001b[1mA debug message.\u001b[0m\n",
      "\u001b[32m2024-05-16 23:59:06.719\u001b[0m | \u001b[1mINFO    \u001b[0m | \u001b[36miXGBoost2._src.interpretable_xgb\u001b[0m:\u001b[36mfn_check\u001b[0m:\u001b[36m23\u001b[0m - \u001b[1mAn info message.\u001b[0m\n",
      "\u001b[32m2024-05-16 23:59:06.721\u001b[0m | \u001b[32m\u001b[1mSUCCESS \u001b[0m | \u001b[36miXGBoost2._src.interpretable_xgb\u001b[0m:\u001b[36mfn_check\u001b[0m:\u001b[36m24\u001b[0m - \u001b[32m\u001b[1mA success message.\u001b[0m\n",
      "\u001b[32m2024-05-16 23:59:06.722\u001b[0m | \u001b[33m\u001b[1mWARNING \u001b[0m | \u001b[36miXGBoost2._src.interpretable_xgb\u001b[0m:\u001b[36mfn_check\u001b[0m:\u001b[36m25\u001b[0m - \u001b[33m\u001b[1mA warning message.\u001b[0m\n",
      "\u001b[32m2024-05-16 23:59:06.724\u001b[0m | \u001b[31m\u001b[1mERROR   \u001b[0m | \u001b[36miXGBoost2._src.interpretable_xgb\u001b[0m:\u001b[36mfn_check\u001b[0m:\u001b[36m26\u001b[0m - \u001b[31m\u001b[1mAn error message.\u001b[0m\n",
      "\u001b[32m2024-05-16 23:59:06.725\u001b[0m | \u001b[41m\u001b[1mCRITICAL\u001b[0m | \u001b[36miXGBoost2._src.interpretable_xgb\u001b[0m:\u001b[36mfn_check\u001b[0m:\u001b[36m27\u001b[0m - \u001b[41m\u001b[1mA critical message.\u001b[0m\n"
     ]
    }
   ],
   "source": [
    "interpretable_xgb.fn_check(verbose=True)"
   ]
  },
  {
   "cell_type": "code",
   "execution_count": 5,
   "metadata": {},
   "outputs": [],
   "source": [
    "interpretable_xgb.fn_check(verbose=False)"
   ]
  },
  {
   "cell_type": "code",
   "execution_count": 6,
   "metadata": {},
   "outputs": [
    {
     "name": "stderr",
     "output_type": "stream",
     "text": [
      "\u001b[32m2024-05-16 23:59:07.215\u001b[0m | \u001b[1mINFO    \u001b[0m | \u001b[36miXGBoost2._src.interpretable_xgb\u001b[0m:\u001b[36mfn_check\u001b[0m:\u001b[36m20\u001b[0m - \u001b[1mIn the fn_check method\u001b[0m\n",
      "\u001b[32m2024-05-16 23:59:07.218\u001b[0m | \u001b[34m\u001b[1mDEBUG   \u001b[0m | \u001b[36miXGBoost2._src.interpretable_xgb\u001b[0m:\u001b[36mfn_check\u001b[0m:\u001b[36m22\u001b[0m - \u001b[34m\u001b[1mA debug message.\u001b[0m\n",
      "\u001b[32m2024-05-16 23:59:07.220\u001b[0m | \u001b[1mINFO    \u001b[0m | \u001b[36miXGBoost2._src.interpretable_xgb\u001b[0m:\u001b[36mfn_check\u001b[0m:\u001b[36m23\u001b[0m - \u001b[1mAn info message.\u001b[0m\n",
      "\u001b[32m2024-05-16 23:59:07.220\u001b[0m | \u001b[32m\u001b[1mSUCCESS \u001b[0m | \u001b[36miXGBoost2._src.interpretable_xgb\u001b[0m:\u001b[36mfn_check\u001b[0m:\u001b[36m24\u001b[0m - \u001b[32m\u001b[1mA success message.\u001b[0m\n",
      "\u001b[32m2024-05-16 23:59:07.222\u001b[0m | \u001b[33m\u001b[1mWARNING \u001b[0m | \u001b[36miXGBoost2._src.interpretable_xgb\u001b[0m:\u001b[36mfn_check\u001b[0m:\u001b[36m25\u001b[0m - \u001b[33m\u001b[1mA warning message.\u001b[0m\n",
      "\u001b[32m2024-05-16 23:59:07.225\u001b[0m | \u001b[31m\u001b[1mERROR   \u001b[0m | \u001b[36miXGBoost2._src.interpretable_xgb\u001b[0m:\u001b[36mfn_check\u001b[0m:\u001b[36m26\u001b[0m - \u001b[31m\u001b[1mAn error message.\u001b[0m\n",
      "\u001b[32m2024-05-16 23:59:07.225\u001b[0m | \u001b[41m\u001b[1mCRITICAL\u001b[0m | \u001b[36miXGBoost2._src.interpretable_xgb\u001b[0m:\u001b[36mfn_check\u001b[0m:\u001b[36m27\u001b[0m - \u001b[41m\u001b[1mA critical message.\u001b[0m\n"
     ]
    }
   ],
   "source": [
    "interpretable_xgb.fn_check(verbose=True)"
   ]
  },
  {
   "cell_type": "code",
   "execution_count": null,
   "metadata": {},
   "outputs": [],
   "source": []
  }
 ],
 "metadata": {
  "kernelspec": {
   "display_name": "demo01",
   "language": "python",
   "name": "python3"
  },
  "language_info": {
   "codemirror_mode": {
    "name": "ipython",
    "version": 3
   },
   "file_extension": ".py",
   "mimetype": "text/x-python",
   "name": "python",
   "nbconvert_exporter": "python",
   "pygments_lexer": "ipython3",
   "version": "3.11.8"
  }
 },
 "nbformat": 4,
 "nbformat_minor": 2
}

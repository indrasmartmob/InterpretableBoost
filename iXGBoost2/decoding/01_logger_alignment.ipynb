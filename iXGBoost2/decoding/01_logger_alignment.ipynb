{
 "cells": [
  {
   "cell_type": "code",
   "execution_count": 2,
   "metadata": {},
   "outputs": [
    {
     "data": {
      "text/plain": [
       "['c:\\\\D_Drive\\\\Indra\\\\github_projects\\\\InterpretableBoost\\\\iXGBoost2\\\\decoding',\n",
       " 'c:\\\\Users\\\\iammo\\\\anaconda3\\\\envs\\\\demo01\\\\python311.zip',\n",
       " 'c:\\\\Users\\\\iammo\\\\anaconda3\\\\envs\\\\demo01\\\\DLLs',\n",
       " 'c:\\\\Users\\\\iammo\\\\anaconda3\\\\envs\\\\demo01\\\\Lib',\n",
       " 'c:\\\\Users\\\\iammo\\\\anaconda3\\\\envs\\\\demo01',\n",
       " '',\n",
       " 'c:\\\\Users\\\\iammo\\\\anaconda3\\\\envs\\\\demo01\\\\Lib\\\\site-packages',\n",
       " 'c:\\\\Users\\\\iammo\\\\anaconda3\\\\envs\\\\demo01\\\\Lib\\\\site-packages\\\\win32',\n",
       " 'c:\\\\Users\\\\iammo\\\\anaconda3\\\\envs\\\\demo01\\\\Lib\\\\site-packages\\\\win32\\\\lib',\n",
       " 'c:\\\\Users\\\\iammo\\\\anaconda3\\\\envs\\\\demo01\\\\Lib\\\\site-packages\\\\Pythonwin']"
      ]
     },
     "execution_count": 2,
     "metadata": {},
     "output_type": "execute_result"
    }
   ],
   "source": [
    "import sys\n",
    "sys.path"
   ]
  },
  {
   "cell_type": "code",
   "execution_count": 6,
   "metadata": {},
   "outputs": [
    {
     "data": {
      "text/plain": [
       "['C:\\\\D_Drive\\\\Indra\\\\github_projects\\\\InterpretableBoost',\n",
       " 'C:\\\\D_Drive\\\\Indra\\\\github_projects\\\\InterpretableBoost\\\\iXGBoost2',\n",
       " 'C:\\\\D_Drive\\\\Indra\\\\github_projects\\\\InterpretableBoost\\\\iXGBoost2',\n",
       " 'c:\\\\D_Drive\\\\Indra\\\\github_projects\\\\InterpretableBoost\\\\iXGBoost2\\\\decoding',\n",
       " 'c:\\\\Users\\\\iammo\\\\anaconda3\\\\envs\\\\demo01\\\\python311.zip',\n",
       " 'c:\\\\Users\\\\iammo\\\\anaconda3\\\\envs\\\\demo01\\\\DLLs',\n",
       " 'c:\\\\Users\\\\iammo\\\\anaconda3\\\\envs\\\\demo01\\\\Lib',\n",
       " 'c:\\\\Users\\\\iammo\\\\anaconda3\\\\envs\\\\demo01',\n",
       " '',\n",
       " 'c:\\\\Users\\\\iammo\\\\anaconda3\\\\envs\\\\demo01\\\\Lib\\\\site-packages',\n",
       " 'c:\\\\Users\\\\iammo\\\\anaconda3\\\\envs\\\\demo01\\\\Lib\\\\site-packages\\\\win32',\n",
       " 'c:\\\\Users\\\\iammo\\\\anaconda3\\\\envs\\\\demo01\\\\Lib\\\\site-packages\\\\win32\\\\lib',\n",
       " 'c:\\\\Users\\\\iammo\\\\anaconda3\\\\envs\\\\demo01\\\\Lib\\\\site-packages\\\\Pythonwin']"
      ]
     },
     "execution_count": 6,
     "metadata": {},
     "output_type": "execute_result"
    }
   ],
   "source": [
    "package_path=\"C:\\D_Drive\\Indra\\github_projects\\InterpretableBoost\"\n",
    "sys.path.insert(0,package_path)\n",
    "sys.path"
   ]
  },
  {
   "cell_type": "code",
   "execution_count": 7,
   "metadata": {},
   "outputs": [
    {
     "ename": "ModuleNotFoundError",
     "evalue": "No module named 'xgboost'",
     "output_type": "error",
     "traceback": [
      "\u001b[1;31m---------------------------------------------------------------------------\u001b[0m",
      "\u001b[1;31mModuleNotFoundError\u001b[0m                       Traceback (most recent call last)",
      "Cell \u001b[1;32mIn[7], line 1\u001b[0m\n\u001b[1;32m----> 1\u001b[0m \u001b[38;5;28;01mfrom\u001b[39;00m \u001b[38;5;21;01miXGBoost2\u001b[39;00m \u001b[38;5;28;01mimport\u001b[39;00m interpretable_xgb\n",
      "File \u001b[1;32mC:\\D_Drive\\Indra\\github_projects\\InterpretableBoost\\iXGBoost2\\__init__.py:1\u001b[0m\n\u001b[1;32m----> 1\u001b[0m \u001b[38;5;28;01mfrom\u001b[39;00m \u001b[38;5;21;01m.\u001b[39;00m\u001b[38;5;21;01m_src\u001b[39;00m \u001b[38;5;28;01mimport\u001b[39;00m interpretable_xgb\n",
      "File \u001b[1;32mC:\\D_Drive\\Indra\\github_projects\\InterpretableBoost\\iXGBoost2\\_src\\interpretable_xgb.py:8\u001b[0m\n\u001b[0;32m      6\u001b[0m \u001b[38;5;28;01mfrom\u001b[39;00m \u001b[38;5;21;01mmatplotlib\u001b[39;00m \u001b[38;5;28;01mimport\u001b[39;00m colormaps, ticker, gridspec\n\u001b[0;32m      7\u001b[0m \u001b[38;5;28;01mimport\u001b[39;00m \u001b[38;5;21;01mjson\u001b[39;00m\n\u001b[1;32m----> 8\u001b[0m \u001b[38;5;28;01mfrom\u001b[39;00m \u001b[38;5;21;01mxgboost\u001b[39;00m \u001b[38;5;28;01mimport\u001b[39;00m XGBRegressor, XGBClassifier\n\u001b[0;32m     10\u001b[0m \u001b[38;5;28;01mfrom\u001b[39;00m \u001b[38;5;21;01m.\u001b[39;00m\u001b[38;5;21;01m.\u001b[39;00m\u001b[38;5;21;01mlogfile\u001b[39;00m \u001b[38;5;28;01mimport\u001b[39;00m logger, log_enable, log_disable\n\u001b[0;32m     12\u001b[0m \u001b[38;5;28;01mdef\u001b[39;00m \u001b[38;5;21mfn_check\u001b[39m(verbose\u001b[38;5;241m=\u001b[39m\u001b[38;5;28;01mTrue\u001b[39;00m):\n",
      "\u001b[1;31mModuleNotFoundError\u001b[0m: No module named 'xgboost'"
     ]
    }
   ],
   "source": [
    "from iXGBoost2 import interpretable_xgb"
   ]
  },
  {
   "cell_type": "code",
   "execution_count": 8,
   "metadata": {},
   "outputs": [],
   "source": [
    "!conda install xgboost"
   ]
  },
  {
   "cell_type": "code",
   "execution_count": null,
   "metadata": {},
   "outputs": [
    {
     "name": "stderr",
     "output_type": "stream",
     "text": [
      "\u001b[32m2024-04-20 13:45:32.012\u001b[0m | \u001b[1mINFO    \u001b[0m | \u001b[36mPyALE._src.ALE_1D_IS\u001b[0m:\u001b[36mfn_check\u001b[0m:\u001b[36m11\u001b[0m - \u001b[1mThis line will not come if logger.disable is done in the start of the file\u001b[0m\n",
      "\u001b[32m2024-04-20 13:45:32.019\u001b[0m | \u001b[1mINFO    \u001b[0m | \u001b[36mPyALE._src.ALE_1D_IS\u001b[0m:\u001b[36mfn_check\u001b[0m:\u001b[36m14\u001b[0m - \u001b[1mIn the fn_check method\u001b[0m\n",
      "\u001b[32m2024-04-20 13:45:32.021\u001b[0m | \u001b[34m\u001b[1mDEBUG   \u001b[0m | \u001b[36mPyALE._src.ALE_1D_IS\u001b[0m:\u001b[36mfn_check\u001b[0m:\u001b[36m16\u001b[0m - \u001b[34m\u001b[1mA debug message.\u001b[0m\n",
      "\u001b[32m2024-04-20 13:45:32.022\u001b[0m | \u001b[1mINFO    \u001b[0m | \u001b[36mPyALE._src.ALE_1D_IS\u001b[0m:\u001b[36mfn_check\u001b[0m:\u001b[36m17\u001b[0m - \u001b[1mAn info message.\u001b[0m\n",
      "\u001b[32m2024-04-20 13:45:32.025\u001b[0m | \u001b[32m\u001b[1mSUCCESS \u001b[0m | \u001b[36mPyALE._src.ALE_1D_IS\u001b[0m:\u001b[36mfn_check\u001b[0m:\u001b[36m18\u001b[0m - \u001b[32m\u001b[1mA success message.\u001b[0m\n",
      "\u001b[32m2024-04-20 13:45:32.027\u001b[0m | \u001b[33m\u001b[1mWARNING \u001b[0m | \u001b[36mPyALE._src.ALE_1D_IS\u001b[0m:\u001b[36mfn_check\u001b[0m:\u001b[36m19\u001b[0m - \u001b[33m\u001b[1mA warning message.\u001b[0m\n",
      "\u001b[32m2024-04-20 13:45:32.030\u001b[0m | \u001b[31m\u001b[1mERROR   \u001b[0m | \u001b[36mPyALE._src.ALE_1D_IS\u001b[0m:\u001b[36mfn_check\u001b[0m:\u001b[36m20\u001b[0m - \u001b[31m\u001b[1mAn error message.\u001b[0m\n",
      "\u001b[32m2024-04-20 13:45:32.031\u001b[0m | \u001b[41m\u001b[1mCRITICAL\u001b[0m | \u001b[36mPyALE._src.ALE_1D_IS\u001b[0m:\u001b[36mfn_check\u001b[0m:\u001b[36m21\u001b[0m - \u001b[41m\u001b[1mA critical message.\u001b[0m\n"
     ]
    }
   ],
   "source": [
    "interpretable_xgb.fn_check()"
   ]
  }
 ],
 "metadata": {
  "kernelspec": {
   "display_name": "demo01",
   "language": "python",
   "name": "python3"
  },
  "language_info": {
   "codemirror_mode": {
    "name": "ipython",
    "version": 3
   },
   "file_extension": ".py",
   "mimetype": "text/x-python",
   "name": "python",
   "nbconvert_exporter": "python",
   "pygments_lexer": "ipython3",
   "version": "3.11.8"
  }
 },
 "nbformat": 4,
 "nbformat_minor": 2
}
